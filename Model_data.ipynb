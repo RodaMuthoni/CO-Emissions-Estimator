{
  "nbformat": 4,
  "nbformat_minor": 0,
  "metadata": {
    "colab": {
      "provenance": [],
      "authorship_tag": "ABX9TyOolhuHbJwvziK0Ljtgo/4+",
      "include_colab_link": true
    },
    "kernelspec": {
      "name": "python3",
      "display_name": "Python 3"
    },
    "language_info": {
      "name": "python"
    }
  },
  "cells": [
    {
      "cell_type": "markdown",
      "metadata": {
        "id": "view-in-github",
        "colab_type": "text"
      },
      "source": [
        "<a href=\"https://colab.research.google.com/github/RodaMuthoni/CO-Emissions-Estimator/blob/CEE-4-model-data-set-up-download-csv-clean-data/Model_data.ipynb\" target=\"_parent\"><img src=\"https://colab.research.google.com/assets/colab-badge.svg\" alt=\"Open In Colab\"/></a>"
      ]
    },
    {
      "cell_type": "code",
      "execution_count": null,
      "metadata": {
        "colab": {
          "base_uri": "https://localhost:8080/"
        },
        "id": "YKBn0YNV2nxJ",
        "outputId": "214012c9-5a0b-43e3-bcf9-c83f8f05a3a2"
      },
      "outputs": [
        {
          "output_type": "stream",
          "name": "stdout",
          "text": [
            "{'data': [{'from': '2025-07-18T09:30Z', 'to': '2025-07-18T10:00Z', 'intensity': {'forecast': 115, 'actual': 126, 'index': 'moderate'}}]}\n"
          ]
        }
      ],
      "source": [
        "import pandas as pd\n",
        "def load_data(file_path):\n",
        "  try:\n",
        "    data=pd.read_csv(file_path)\n",
        "    print(\"data loaded\")\n",
        "    return data\n",
        "  except Exception as e:\n",
        "    print(f\"Error loading data: {e}\")\n",
        "    return None\n"
      ]
    },
    {
      "cell_type": "markdown",
      "source": [
        "# New Section"
      ],
      "metadata": {
        "id": "RiUzfNOpCp2P"
      }
    },
    {
      "cell_type": "code",
      "source": [
        "import pandas as pd\n",
        "def load_data(file_path):\n",
        "  try:\n",
        "    data=pd.read_csv(file_path)\n",
        "    print(\"data loaded\")\n",
        "    return data\n",
        "  except Exception as e:\n",
        "    print(f\"Error loading data: {e}\")\n",
        "    return None\n",
        "\n",
        "def clean_data(data):\n",
        "  if data is not None:\n",
        "    data=data.dropna()\n",
        "    # Assuming 'Kilotons of Co2' is the column to convert to numeric\n",
        "    data[\"Kilotons of Co2\"]=pd.to_numeric(data[\"Kilotons of Co2\"])\n",
        "    # Assuming 'Kilotons of Co2' is the relevant emissions column\n",
        "    data=data.dropna(subset=[\"Kilotons of Co2\"])\n",
        "    # Assuming 'Country' and 'Kilotons of Co2' are the desired columns\n",
        "    data=data[[\"Country\",\"Kilotons of Co2\"]]\n",
        "    print(\"data cleaned\")\n",
        "    return data\n",
        "  else:\n",
        "    print(\"data not cleaned\")\n",
        "    return None\n",
        "\n",
        "def inspect_data(data):\n",
        "  if data is not None:\n",
        "    print(data.head())\n",
        "    print(data.info())\n",
        "    print(data.describe())\n",
        "  else:\n",
        "    print(\"data not inspected\")\n",
        "def save_cleaned_data(data, output_path):\n",
        "  if data is not None:\n",
        "    data.to_csv(output_path, index=False)\n",
        "    print(f\"Cleaned data saved to {output_path}\")\n",
        "  else:\n",
        "    print(\"No data to save\")\n",
        "\n",
        "if __name__ == \"__main__\":\n",
        "  file_path=\"/content/sample_data/Carbon_(CO2)_Emissions_by_Country.csv\"\n",
        "  output_path=\"/content/sample_data/cleaned_carbon_emissions.csv\" # Define output path\n",
        "  data=load_data(file_path)\n",
        "  cleaned_data = clean_data(data) # Assign cleaned data to a new variable\n",
        "  inspect_data(cleaned_data) # Use cleaned_data for inspection\n",
        "  save_cleaned_data(cleaned_data, output_path) # Pass cleaned_data to save_cleaned_data"
      ],
      "metadata": {
        "id": "YOXSf_cuDDju",
        "colab": {
          "base_uri": "https://localhost:8080/"
        },
        "outputId": "00468288-d7b7-437e-d742-df705bc89e18"
      },
      "execution_count": null,
      "outputs": [
        {
          "output_type": "stream",
          "name": "stdout",
          "text": [
            "data loaded\n",
            "data cleaned\n",
            "       Country  Kilotons of Co2\n",
            "0  Afghanistan           8930.0\n",
            "1  Afghanistan           8080.0\n",
            "2  Afghanistan           7110.0\n",
            "3  Afghanistan           6080.0\n",
            "4  Afghanistan           6070.0\n",
            "<class 'pandas.core.frame.DataFrame'>\n",
            "RangeIndex: 5677 entries, 0 to 5676\n",
            "Data columns (total 2 columns):\n",
            " #   Column           Non-Null Count  Dtype  \n",
            "---  ------           --------------  -----  \n",
            " 0   Country          5677 non-null   object \n",
            " 1   Kilotons of Co2  5677 non-null   float64\n",
            "dtypes: float64(1), object(1)\n",
            "memory usage: 88.8+ KB\n",
            "None\n",
            "       Kilotons of Co2\n",
            "count     5.677000e+03\n",
            "mean      1.412292e+05\n",
            "std       6.491258e+05\n",
            "min       0.000000e+00\n",
            "25%       1.380000e+03\n",
            "50%       9.170000e+03\n",
            "75%       5.848000e+04\n",
            "max       1.070722e+07\n",
            "Cleaned data saved to /content/sample_data/cleaned_carbon_emissions.csv\n"
          ]
        }
      ]
    }
  ]
}